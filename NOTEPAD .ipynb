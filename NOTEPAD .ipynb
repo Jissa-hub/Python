{
 "cells": [
  {
   "cell_type": "code",
   "execution_count": null,
   "id": "f857bf1b-af09-4dba-9926-bb0440e3d7ef",
   "metadata": {},
   "outputs": [],
   "source": [
    "##Notepad"
   ]
  },
  {
   "cell_type": "code",
   "execution_count": null,
   "id": "2f2d2b87-80db-4bd8-8928-2a52c1e83a46",
   "metadata": {},
   "outputs": [],
   "source": [
    "import tkinter as tk\n",
    "from tkinter import filedialog\n",
    "\n",
    "# Create the main window\n",
    "root = tk.Tk()\n",
    "root.title(\"Simple Notepad\")\n",
    "root.geometry(\"600x400\")\n",
    "\n",
    "# Function to open a file\n",
    "def open_file():\n",
    "    filepath = filedialog.askopenfilename(filetypes=[(\"Text Files\", \"*.txt\"), (\"All Files\", \"*.*\")])\n",
    "    if filepath:\n",
    "        with open(filepath, \"r\") as file:\n",
    "            text.delete(1.0, tk.END)\n",
    "            text.insert(tk.END, file.read())\n",
    "    root.title(f\"Simple Notepad - {filepath}\")\n",
    "\n",
    "# Function to save a file\n",
    "def save_file():\n",
    "    filepath = filedialog.asksaveasfilename(defaultextension=\".txt\", filetypes=[(\"Text Files\", \"*.txt\"), (\"All Files\", \"*.*\")])\n",
    "    if filepath:\n",
    "        with open(filepath, \"w\") as file:\n",
    "            file.write(text.get(1.0, tk.END))\n",
    "        root.title(f\"Simple Notepad - {filepath}\")\n",
    "\n",
    "# Add Text Widget for text editing area\n",
    "text = tk.Text(root, wrap=tk.WORD)\n",
    "text.pack(expand=True, fill=tk.BOTH)\n",
    "\n",
    "# Add a Menu Bar\n",
    "menu_bar = tk.Menu(root)\n",
    "root.config(menu=menu_bar)\n",
    "\n",
    "# Create File Menu\n",
    "file_menu = tk.Menu(menu_bar, tearoff=0)\n",
    "menu_bar.add_cascade(label=\"File\", menu=file_menu)\n",
    "file_menu.add_command(label=\"Open\", command=open_file)\n",
    "file_menu.add_command(label=\"Save\", command=save_file)\n",
    "file_menu.add_separator()\n",
    "file_menu.add_command(label=\"Exit\", command=root.quit)\n",
    "\n",
    "# Run the application\n",
    "root.mainloop()\n"
   ]
  }
 ],
 "metadata": {
  "kernelspec": {
   "display_name": "Python 3 (ipykernel)",
   "language": "python",
   "name": "python3"
  },
  "language_info": {
   "codemirror_mode": {
    "name": "ipython",
    "version": 3
   },
   "file_extension": ".py",
   "mimetype": "text/x-python",
   "name": "python",
   "nbconvert_exporter": "python",
   "pygments_lexer": "ipython3",
   "version": "3.12.4"
  }
 },
 "nbformat": 4,
 "nbformat_minor": 5
}
