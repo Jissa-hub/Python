{
 "cells": [
  {
   "cell_type": "code",
   "execution_count": 2,
   "id": "2c1c21b9-c704-4182-b946-508b2d52813c",
   "metadata": {
    "scrolled": true
   },
   "outputs": [
    {
     "name": "stdout",
     "output_type": "stream",
     "text": [
      "\n",
      "Choose a game:\n",
      "1. Rock-Paper-Scissors\n",
      "2. Quiz Game\n",
      "3. Exit\n"
     ]
    },
    {
     "name": "stdin",
     "output_type": "stream",
     "text": [
      "Enter your choice (1/2/3):  3\n"
     ]
    },
    {
     "name": "stdout",
     "output_type": "stream",
     "text": [
      "Goodbye!\n"
     ]
    }
   ],
   "source": [
    "import random\n",
    "\n",
    "class GameManager:\n",
    "    def __init__(self):\n",
    "        self.quiz_questions = {\n",
    "            \"What is the capital of France?\": \"Paris\",\n",
    "            \"What is 2 + 2?\": \"4\",\n",
    "            \"What is the color of the sky on a clear day?\": \"blue\"\n",
    "        }\n",
    "    \n",
    "    def play_rock_paper_scissors(self):\n",
    "        choices = [\"rock\", \"paper\", \"scissors\"]\n",
    "        user_choice = input(\"Enter rock, paper, or scissors: \").lower()\n",
    "        if user_choice not in choices:\n",
    "            return \"Invalid choice! Please try again.\"\n",
    "        \n",
    "        computer_choice = random.choice(choices)\n",
    "        print(f\"Computer chose: {computer_choice}\")\n",
    "        \n",
    "        if user_choice == computer_choice:\n",
    "            return \"It's a tie!\"\n",
    "        elif (user_choice == \"rock\" and computer_choice == \"scissors\") or \\\n",
    "             (user_choice == \"paper\" and computer_choice == \"rock\") or \\\n",
    "             (user_choice == \"scissors\" and computer_choice == \"paper\"):\n",
    "            return \"You win!\"\n",
    "        else:\n",
    "            return \"You lose!\"\n",
    "\n",
    "    def play_quiz(self):\n",
    "        score = 0\n",
    "        for question, answer in self.quiz_questions.items():\n",
    "            user_answer = input(f\"{question} \")\n",
    "            if user_answer.strip().lower() == answer.lower():\n",
    "                print(\"Correct!\")\n",
    "                score += 1\n",
    "            else:\n",
    "                print(f\"Wrong! The correct answer is: {answer}\")\n",
    "        \n",
    "        return f\"Your final score: {score}/{len(self.quiz_questions)}\"\n",
    "\n",
    "    def run(self):\n",
    "        while True:\n",
    "            print(\"\\nChoose a game:\")\n",
    "            print(\"1. Rock-Paper-Scissors\")\n",
    "            print(\"2. Quiz Game\")\n",
    "            print(\"3. Exit\")\n",
    "            choice = input(\"Enter your choice (1/2/3): \")\n",
    "\n",
    "            if choice == \"1\":\n",
    "                print(self.play_rock_paper_scissors())\n",
    "            elif choice == \"2\":\n",
    "                print(self.play_quiz())\n",
    "            elif choice == \"3\":\n",
    "                print(\"Goodbye!\")\n",
    "                break\n",
    "            else:\n",
    "                print(\"Invalid choice! Please select 1, 2, or 3.\")\n",
    "\n",
    "# Example usage\n",
    "if __name__ == \"__main__\":\n",
    "    game_manager = GameManager()\n",
    "    game_manager.run()"
   ]
  },
  {
   "cell_type": "code",
   "execution_count": null,
   "id": "09899019-3524-4be1-b148-f1f54a779404",
   "metadata": {},
   "outputs": [],
   "source": []
  }
 ],
 "metadata": {
  "kernelspec": {
   "display_name": "Python 3 (ipykernel)",
   "language": "python",
   "name": "python3"
  },
  "language_info": {
   "codemirror_mode": {
    "name": "ipython",
    "version": 3
   },
   "file_extension": ".py",
   "mimetype": "text/x-python",
   "name": "python",
   "nbconvert_exporter": "python",
   "pygments_lexer": "ipython3",
   "version": "3.12.4"
  }
 },
 "nbformat": 4,
 "nbformat_minor": 5
}
