{
 "cells": [
  {
   "cell_type": "code",
   "execution_count": null,
   "id": "a26c3251-510d-4ba5-8a39-e347cf56d661",
   "metadata": {},
   "outputs": [],
   "source": [
    "##Calculator"
   ]
  },
  {
   "cell_type": "code",
   "execution_count": 30,
   "id": "3c8561a8-b2af-418b-b3dc-82cedc63e5e8",
   "metadata": {
    "scrolled": true
   },
   "outputs": [],
   "source": [
    "import tkinter as tk\n",
    "\n",
    "def click(event):\n",
    "    current = display.get()\n",
    "    text = event.widget.cget('text')\n",
    "    \n",
    "    if text == \"=\":\n",
    "        result = eval(current)\n",
    "        display.delete(0,tk.END)\n",
    "        display.insert(tk.END, result)\n",
    "    elif text == \"C\":\n",
    "        display.delete(0,tk.END)\n",
    "    else:\n",
    "        display.insert(tk.END, text)\n",
    "    \n",
    "    \n",
    "window= tk.Tk()\n",
    "window.title(\"Calculator\")\n",
    "\n",
    "display = tk.Entry(window,font=(\"Ariel\",25),justify=\"right\")\n",
    "display.pack(fill=tk.X,padx=10,pady=10,ipady=10)\n",
    "\n",
    "btn_frame = tk.Frame(window)\n",
    "btn_frame.pack()\n",
    "\n",
    "button_labels=[\n",
    "    \"7\",\"8\",\"9\",\"+\",\n",
    "    \"4\",\"5\",\"6\",\"-\",\n",
    "    \"1\",\"2\",\"3\",\"*\",\n",
    "    \"C\",\"0\",\"=\",\"/\",\n",
    "]\n",
    "\n",
    "i=0\n",
    "for label in button_labels:\n",
    "    button=tk.Button(btn_frame,text=label,font=(\"Ariel\",18),padx=20,pady=20)\n",
    "    button.grid(row=i//4, column=i%4, padx=10, pady=10)\n",
    "    button.bind(\"<Button-1>\",click)\n",
    "    i+=1\n",
    "    \n",
    "\n",
    "\n",
    "\n",
    "\n",
    "window.mainloop()\n",
    "\n",
    "\n"
   ]
  },
  {
   "cell_type": "code",
   "execution_count": null,
   "id": "d5e34eec-9ad3-452a-bf4a-2ad2c965f24f",
   "metadata": {},
   "outputs": [],
   "source": []
  },
  {
   "cell_type": "code",
   "execution_count": null,
   "id": "3aa31ce2-33d4-4a84-b40f-f1fa19d157bf",
   "metadata": {},
   "outputs": [],
   "source": []
  }
 ],
 "metadata": {
  "kernelspec": {
   "display_name": "Python 3 (ipykernel)",
   "language": "python",
   "name": "python3"
  },
  "language_info": {
   "codemirror_mode": {
    "name": "ipython",
    "version": 3
   },
   "file_extension": ".py",
   "mimetype": "text/x-python",
   "name": "python",
   "nbconvert_exporter": "python",
   "pygments_lexer": "ipython3",
   "version": "3.12.4"
  }
 },
 "nbformat": 4,
 "nbformat_minor": 5
}
